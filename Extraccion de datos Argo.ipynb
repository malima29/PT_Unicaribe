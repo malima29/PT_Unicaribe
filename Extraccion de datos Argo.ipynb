{
 "cells": [
  {
   "cell_type": "markdown",
   "metadata": {},
   "source": [
    "# Extracción de datos Argo\n",
    "**Elaborado por:** Lira Martinez Mariela\n",
    "\n",
    "\n",
    "## Descripción: \n",
    "Este codigo tiene como finalidad facilitar la descarga de datos de la plataforma de [Argo](\"http://www.argodatamgt.org/Access-to-data/Argo-data-selection\").Para esto se realiza un scrapping sencillo donde unicamente se toman los hipervínculos; sin embargo ya que en esta ocasion es un hipervínculo único, solo se procede a acceder a este y se realiza la descarga de un zip y dentro de este se encuentran los datos en archivos csv.\n",
    "\n",
    "En caso de querer filtrar otros datos, procesa a modificar las variables que se muestran a continuación. \n",
    "\n",
    "### Aportes futuros:\n",
    "- Poder extraer informacion sin necesidad de acceder a Argo\n",
    "- Mejorar la estética del programa\n",
    "- Guardar en automatico los archivos recibidos\n",
    "\n",
    "Fuentes:\n",
    "- [Argo](\"http://www.argodatamgt.org/Access-to-data/Argo-data-selection\")\n",
    "\n",
    "- [Datos prueba](\"http://www.ifremer.fr/co-diffClient/diffusion?restMode=1&latMax=23.55&startDate=01%2F01%2F1980&processingLevel=all&longMin=-87.56&geoArea=all&dataTypes=argo_p&dataTypes=argo_t&endDate=01%2F01%2F2018&format=ascii-csv&longMax=-85.875&lang=en&mapMode=classification_type&latMin=18.2&mode=DataSelection&quality=good&parameters=35&parameters=30&formOK=true&formMail=\")"
   ]
  },
  {
   "cell_type": "code",
   "execution_count": 38,
   "metadata": {},
   "outputs": [
    {
     "name": "stdout",
     "output_type": "stream",
     "text": [
      "http://www.ifremer.fr/co-diffClient/diffusion?restMode=1&latMax=24.55&startDate=01%2F01%2F1980&processingLevel=all&longMin=-87.56&geoArea=all&dataTypes=argo_p&dataTypes=argo_t&endDate=01%2F01%2F2018&format=ascii-csv&longMax=-85.875&lang=en&mapMode=classification_type&latMin=18.2&mode=DataSelection&quality=good&parameters=35&parameters=30&formOK=true&formMail=\n"
     ]
    }
   ],
   "source": [
    "import requests \n",
    "from bs4 import BeautifulSoup\n",
    "# Datos necesarios para descargar del mapa de Argo \n",
    "lat_max = \"24.55\"\n",
    "lat_min = \"18.2\"\n",
    "long_max = \"-85.875\"\n",
    "long_min = \"-87.56\"\n",
    "day_in = \"01\"\n",
    "month_in = \"01\"\n",
    "year_in = \"1980\"\n",
    "day_end = \"01\"\n",
    "month_end = \"01\"\n",
    "year_end = \"2018\"\n",
    "\n",
    "# Generamos URL con variables de los datos\n",
    "URL = \"http://www.ifremer.fr/co-diffClient/diffusion?restMode=1&latMax={lat_max}&startDate={day_in}%2F{month_in}%2F{year_in}&processingLevel=all&longMin={long_min}&geoArea=all&dataTypes=argo_p&dataTypes=argo_t&endDate={day_end}%2F{month_end}%2F{year_end}&format=ascii-csv&longMax={long_max}&lang=en&mapMode=classification_type&latMin={lat_min}&mode=DataSelection&quality=good&parameters=35&parameters=30&formOK=true&formMail=\".format(lat_max=lat_max,lat_min=lat_min,long_max=long_max,\n",
    "long_min=long_min,day_in=day_in,month_in=month_in,year_in=year_in,day_end=day_end,month_end=month_end,year_end=year_end)\n",
    "#Unicamente para verificar que se genere bien la URL\n",
    "print (URL)\n"
   ]
  },
  {
   "cell_type": "code",
   "execution_count": 39,
   "metadata": {},
   "outputs": [
    {
     "name": "stdout",
     "output_type": "stream",
     "text": [
      "b'\\r\\n\\r\\n\\r\\n\\r\\n\\r\\n\\r\\n<!DOCTYPE html PUBLIC \"-//W3C//DTD XHTML 1.0 Strict//EN\" \"http://www.w3.org/TR/xhtml1/DTD/xhtml1-strict.dtd\">\\r\\n\\r\\n\\r\\n\\r\\n<html xmlns=\"http://www.w3.org/1999/xhtml\" xml:lang=\"fr-FR\" lang=\"fr-FR\">\\r\\n<head>\\r\\n\\t<meta http-equiv=\"Content-Type\" content=\"text/html;charset=iso-8859-15\" />\\r\\n\\t<title>\\r\\n\\t\\tData Selection Export \\r\\n\\t</title>\\r\\n\\r\\n\\t<link rel=\"stylesheet\" href=\"./style/ezw/structureWww.css\" type=\"text/css\" />\\r\\n\\t<link rel=\"stylesheet\" href=\"./style/ezw/VirtualysWww.css\" type=\"text/css\" />\\r\\n\\t<link rel=\"stylesheet\" href=\"./style/ezw/ifremer.css\" type=\"text/css\" />\\r\\n\\t<link rel=\"stylesheet\" href=\"./style/pages.css\" type=\"text/css\" />\\r\\n</head>\\r\\n\\r\\n<body bgcolor=\"#326699\" text=\"#000000\" link=\"#000080\" vlink=\"#3366CC\" alink=\"#800080\">\\r\\n\\t<div class=\"diffusion\">\\r\\n\\t\\t<h1>\\r\\n\\t\\t\\tData Selection Export \\r\\n\\t\\t</h1>\\r\\n\\t\\t\\r\\n\\t\\t\\t<div id=\"result\" class=\"result before\">\\r\\n\\t\\t\\t\\tWe are processing your data request.<br/>\\r\\n\\t\\t\\t\\tThe data will be delivered at : \\r\\n\\t\\t\\t\\t<a href=\"ftp://ftp.ifremer.fr/ifremer/coriolis/tmp/co0501/DataSelection_20190909_015352_8262018.tgz\">ftp://ftp.ifremer.fr/ifremer/coriolis/tmp/co0501/DataSelection_20190909_015352_8262018.tgz</a><br/>\\r\\n\\t\\t\\t\\tYou can close this window.\\r\\n\\t\\t\\t</div>\\r\\n\\t\\t\\r\\n\\r\\n</body>\\r\\n</html>\\r\\n'\n"
     ]
    }
   ],
   "source": [
    "#Extraccion HTML del URL\n",
    "r = requests.get(URL) \n",
    "print(r.content)"
   ]
  },
  {
   "cell_type": "code",
   "execution_count": 40,
   "metadata": {},
   "outputs": [
    {
     "name": "stdout",
     "output_type": "stream",
     "text": [
      "ftp://ftp.ifremer.fr/ifremer/coriolis/tmp/co0501/DataSelection_20190909_015352_8262018.tgz\n"
     ]
    }
   ],
   "source": [
    "#Busqueda y entrega de hipervinculo del HTML recibido (todos los encontrados)\n",
    "soup =  BeautifulSoup(r.content)\n",
    "tags = soup('a')\n",
    "for tag in tags:\n",
    "    print(tag.get('href'))"
   ]
  }
 ],
 "metadata": {
  "kernelspec": {
   "display_name": "Python 3",
   "language": "python",
   "name": "python3"
  },
  "language_info": {
   "codemirror_mode": {
    "name": "ipython",
    "version": 3
   },
   "file_extension": ".py",
   "mimetype": "text/x-python",
   "name": "python",
   "nbconvert_exporter": "python",
   "pygments_lexer": "ipython3",
   "version": "3.6.0"
  }
 },
 "nbformat": 4,
 "nbformat_minor": 2
}
